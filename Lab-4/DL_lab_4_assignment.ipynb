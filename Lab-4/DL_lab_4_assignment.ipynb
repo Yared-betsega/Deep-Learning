{
 "cells": [
  {
   "cell_type": "markdown",
   "metadata": {},
   "source": [
    "####   Name:     Yared Tsegaye Gizaw\n",
    "####         ID:     UGR/8284/12\n",
    "#### Stream:     AI"
   ]
  },
  {
   "cell_type": "code",
   "execution_count": 1,
   "metadata": {
    "id": "LHlYGp-lRQCJ"
   },
   "outputs": [],
   "source": [
    "import torch"
   ]
  },
  {
   "cell_type": "code",
   "execution_count": 2,
   "metadata": {
    "id": "VCawfu9IRxJ6"
   },
   "outputs": [],
   "source": [
    "class DenseLayer:\n",
    "  # Layer initialization\n",
    "  def __init__(self, n_inputs, n_neurons):\n",
    "    # Initialize weights and biases\n",
    "    self.weights = 0.01 * torch.rand(n_inputs, n_neurons)\n",
    "    self.biases = torch.zeros((1, n_neurons))\n",
    "\n",
    "  # Forward pass\n",
    "  def forward(self, inputs):\n",
    "    # Calculate output values from inputs, weights and biases\n",
    "    self.output = torch.matmul(inputs, self.weights) + self.biases"
   ]
  },
  {
   "cell_type": "code",
   "execution_count": 3,
   "metadata": {
    "id": "EvpksaH3UCPk"
   },
   "outputs": [],
   "source": [
    "class Activation_Linear:\n",
    "  # Forward pass\n",
    "  def forward(self, inputs):\n",
    "    self.output = inputs\n",
    "    "
   ]
  },
  {
   "cell_type": "code",
   "execution_count": 4,
   "metadata": {
    "id": "l9LoiFlWULNZ"
   },
   "outputs": [],
   "source": [
    "class Activation_Sigmoid:\n",
    "  # Forward pass\n",
    "  def forward(self, inputs):\n",
    "    self.output = 1 / (1 + torch.exp(inputs*-1))"
   ]
  },
  {
   "cell_type": "code",
   "execution_count": 5,
   "metadata": {
    "id": "_4Hx1tkEJfKg"
   },
   "outputs": [],
   "source": [
    "X = torch.tensor([0.1, 0.5])\n",
    "y = torch.tensor([0.05, 0.95])"
   ]
  },
  {
   "cell_type": "code",
   "execution_count": 6,
   "metadata": {
    "colab": {
     "base_uri": "https://localhost:8080/",
     "height": 227
    },
    "id": "hTYn1wFwRc6_",
    "outputId": "97c68874-d792-4ae0-ac4b-0f7c25c09e61"
   },
   "outputs": [],
   "source": [
    "hidden_layer_1 = DenseLayer(2, 4)\n",
    "activation1 = Activation_Sigmoid()\n",
    "output_layer = DenseLayer(4, 2)\n",
    "activation2 = Activation_Linear()"
   ]
  },
  {
   "cell_type": "code",
   "execution_count": 7,
   "metadata": {
    "id": "8zhwjuMsRvSw"
   },
   "outputs": [],
   "source": [
    "def forward_pass(X):\n",
    "  hidden_layer_1.forward(X)\n",
    "  activation1.forward(hidden_layer_1.output)\n",
    "  output_layer.forward(activation1.output)\n",
    "  activation2.forward(output_layer.output)\n",
    "  return activation2.output"
   ]
  },
  {
   "cell_type": "code",
   "execution_count": 33,
   "metadata": {},
   "outputs": [],
   "source": [
    "def back_prop(fp):\n",
    "  lr = torch.tensor(0.01)\n",
    "  back1 = (fp[0][0]-y[0])*(1-fp[0][0])*fp[0][0]\n",
    "  back2 = (fp[0][1]-y[1])*(1-fp[0][1])*fp[0][1]\n",
    "\n",
    "  output_layer.weights[0][0] -= lr * back1*activation1.output[0][0]\n",
    "  output_layer.weights[0][1] -= lr * back1*activation1.output[0][1]\n",
    "  output_layer.weights[1][0] -= lr * back2*activation1.output[0][0]\n",
    "  output_layer.weights[1][1] -= lr * back2*activation1.output[0][1]\n",
    "  output_layer.weights[2][0] -= lr * back1*activation1.output[0][2]\n",
    "  output_layer.weights[2][1] -= lr * back2*activation1.output[0][2]\n",
    "  output_layer.weights[3][0] -= lr * back1*activation1.output[0][3]\n",
    "  output_layer.weights[3][1] -= lr * back2*activation1.output[0][3]\n",
    "  \n",
    "  output_layer.biases[0][0] -= lr * back1\n",
    "  output_layer.biases[0][1] -= lr * back2\n",
    "  \n",
    "\n",
    "  for i in range(hidden_layer_1.weights.shape[0]):\n",
    "      for j in range(hidden_layer_1.weights.shape[1]):\n",
    "        hidden_layer_1.weights[i][j] -= lr * (\n",
    "            back1 * output_layer.weights[j][i] * X[i] +\n",
    "            back2 * output_layer.weights[j][i] * X[i]\n",
    "        ) * hidden_layer_1.output[0][j] * (1 - hidden_layer_1.output[0][j])\n",
    "    # for j in range(hidden_layer.biases.shape[1]):\n",
    "    #   hidden_layer.biases[0][j] -= lr * (\n",
    "    #     back1 * output_layer.weights[j][0] +\n",
    "    #     back2 * output_layer.weights[j][1]\n",
    "    # ) * hidden_layer.output[0][j] * (1 - hidden_layer.output[0][j])\n",
    "\n",
    "  hidden_layer_1.biases[0][0] -= lr * (back1 * output_layer.weights[0][0] + back2 * output_layer.weights[0][1] )  \n",
    "  hidden_layer_1.biases[0][1] -= lr * (back1 * output_layer.weights[1][0] + back2 * output_layer.weights[1][1] ) \n",
    "  hidden_layer_1.biases[0][2] -= lr * (back1 * output_layer.weights[2][0] + back2 * output_layer.weights[2][1])\n",
    "  hidden_layer_1.biases [0][3] -= lr * (back1 * output_layer.weights[3][0] + back2 * output_layer.weights[3, 1])\n",
    "  "
   ]
  },
  {
   "cell_type": "code",
   "execution_count": 26,
   "metadata": {},
   "outputs": [],
   "source": [
    "def error_calculation(y_true, y_pred):\n",
    "  return torch.mean(0.5*(y_true - y_pred)**2)"
   ]
  },
  {
   "cell_type": "code",
   "execution_count": 27,
   "metadata": {},
   "outputs": [],
   "source": [
    "loss = 0.0001"
   ]
  },
  {
   "cell_type": "code",
   "execution_count": 34,
   "metadata": {},
   "outputs": [
    {
     "name": "stdout",
     "output_type": "stream",
     "text": [
      "Initial loss: tensor(0.2210)\n",
      "Initial prediction: tensor([[0.0098, 0.0106]])\n",
      "tensor([[0.0040, 0.0041],\n",
      "        [0.0075, 0.0061],\n",
      "        [0.0006, 0.0030],\n",
      "        [0.0075, 0.0064]])\n",
      "tensor([[0.0045, 0.0088, 0.0055, 0.0045],\n",
      "        [0.0011, 0.0097, 0.0057, 0.0074]])\n",
      "tensor([[0.5002, 0.5014, 0.5008, 0.5010]])\n",
      "tensor([[0.0098, 0.0106]])\n",
      "Final loss: tensor(9.9830e-05)\n",
      "Final prediction: tensor([[0.0630, 0.9348]])\n",
      "Target value: tensor([0.0500, 0.9500])\n"
     ]
    }
   ],
   "source": [
    "y_pred = forward_pass(X)\n",
    "err = error_calculation(y, y_pred)\n",
    "print(\"Initial loss:\", err)\n",
    "print(\"Initial prediction:\",y_pred)\n",
    "\n",
    "while err > loss:\n",
    "  back_prop(y_pred)\n",
    "  y_pred = forward_pass(X)\n",
    "  err = error_calculation(y, y_pred)\n",
    "print(\"Final loss:\", err)\n",
    "print(\"Final prediction:\",y_pred)\n",
    "print(\"Target value:\",y)"
   ]
  },
  {
   "cell_type": "code",
   "execution_count": null,
   "metadata": {},
   "outputs": [],
   "source": []
  }
 ],
 "metadata": {
  "colab": {
   "provenance": []
  },
  "kernelspec": {
   "display_name": "Python 3 (ipykernel)",
   "language": "python",
   "name": "python3"
  },
  "language_info": {
   "codemirror_mode": {
    "name": "ipython",
    "version": 3
   },
   "file_extension": ".py",
   "mimetype": "text/x-python",
   "name": "python",
   "nbconvert_exporter": "python",
   "pygments_lexer": "ipython3",
   "version": "3.11.2"
  }
 },
 "nbformat": 4,
 "nbformat_minor": 1
}
