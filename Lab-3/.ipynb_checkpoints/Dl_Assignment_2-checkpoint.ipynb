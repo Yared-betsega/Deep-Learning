{
 "cells": [
  {
   "cell_type": "markdown",
   "metadata": {},
   "source": [
    "#### Name:  Yared Tsegaye\n",
    "#### ID:  UGR/8284/12"
   ]
  },
  {
   "cell_type": "code",
   "execution_count": 1,
   "metadata": {
    "id": "qDAEIoSGZGzU"
   },
   "outputs": [],
   "source": [
    "# Import packages\n",
    "import torch"
   ]
  },
  {
   "cell_type": "code",
   "execution_count": 2,
   "metadata": {
    "id": "AqxDXNTWcvHG"
   },
   "outputs": [],
   "source": [
    "# Define a Layer class that contains ReLU activation function\n",
    "\n",
    "class Activation_ReLU:\n",
    "\n",
    "  # Layer initialization\n",
    "  def __init__(self, n_inputs, n_neurons):\n",
    "    # Initialize weights and biases\n",
    "    self.weights = 0.01 * torch.rand(n_inputs, n_neurons)\n",
    "    self.biases = torch.zeros((1, n_neurons))\n",
    "\n",
    "  # Forward pass\n",
    "  def forward(self, inputs):\n",
    "    # Calculate output values from inputs, weights and biases\n",
    "    self.output = torch.matmul(inputs, self.weights) + self.biases\n",
    "\n",
    "    # Apply activation functions\n",
    "    self.output = torch.max(torch.tensor(0.0), self.output)\n",
    "    print(self.output)\n",
    "    return self.output\n"
   ]
  },
  {
   "cell_type": "code",
   "execution_count": 21,
   "metadata": {
    "id": "3ZRaUE3SzTBt"
   },
   "outputs": [],
   "source": [
    "# Define a Layer class that contains Sigmoid activation function\n",
    "\n",
    "class Activation_Sigmoid:\n",
    "\n",
    "  # Layer initialization\n",
    "  def __init__(self, n_inputs, n_neurons):\n",
    "    # Initialize weights and biases\n",
    "    self.weights = 0.01 * torch.rand(n_inputs, n_neurons)\n",
    "    self.biases = torch.zeros((1, n_neurons))\n",
    "\n",
    "  # Forward pass\n",
    "  def forward(self, inputs):\n",
    "    # Calculate output values from inputs, weights and biases\n",
    "    self.output = torch.matmul(inputs, self.weights) + self.biases\n",
    "\n",
    "    # Apply activation functions\n",
    "    self.output = 1 / (1 + torch.exp(-self.output))\n",
    "    print(self.output)\n",
    "    return self.output\n",
    "\n"
   ]
  },
  {
   "cell_type": "code",
   "execution_count": 4,
   "metadata": {
    "id": "V0GPBFe01qWc"
   },
   "outputs": [],
   "source": [
    "# Define a Layer class that contains Softmax activation function\n",
    "\n",
    "class Activation_Softmax:\n",
    "\n",
    "  # Layer initialization\n",
    "  def __init__(self, n_inputs, n_neurons):\n",
    "    # Initialize weights and biases\n",
    "    self.weights = 0.01 * torch.rand(n_inputs, n_neurons)\n",
    "    self.biases = torch.zeros((1, n_neurons))\n",
    "\n",
    "  # Forward pass\n",
    "  def forward(self, inputs):\n",
    "    # Calculate output values from inputs, weights and biases\n",
    "    multiplied_inputs = torch.matmul(inputs, self.weights) + self.biases\n",
    "\n",
    "    # Apply activation functions\n",
    "    exp_values = torch.exp(multiplied_inputs) - torch.max(inputs, axis=1,keepdims=True).values\n",
    "    summed_input = exp_values.sum(dim=1, keepdim=True)\n",
    "    probabilities = exp_values / summed_input\n",
    "    self.output = probabilities\n",
    "\n",
    "    return self.output\n"
   ]
  },
  {
   "cell_type": "code",
   "execution_count": 5,
   "metadata": {
    "id": "GPXRPKPxAKVx"
   },
   "outputs": [],
   "source": [
    "# Create a Neural Network that uses the ReLU activation function\n",
    "\n",
    "class SimpleNeuralNetworkWithReLU:\n",
    "    def __init__(self):\n",
    "        # Define layers\n",
    "        self.layer1 = Activation_ReLU(n_inputs=4, n_neurons=18)\n",
    "        self.layer2 = Activation_ReLU(n_inputs=18, n_neurons=18)\n",
    "        self.layer3 = Activation_Softmax(n_inputs=18, n_neurons=3)  # Output layer with 3 neurons for classification\n",
    "\n",
    "    def train(self, inputs):\n",
    "        # Forward pass through each layer with manual activation functions\n",
    "        out1 = self.layer1.forward(inputs)\n",
    "        out2 = self.layer2.forward(out1)\n",
    "        log_probabilities = self.layer3.forward(out2)  # Softmax for multiclass classification\n",
    "        return log_probabilities"
   ]
  },
  {
   "cell_type": "code",
   "execution_count": 6,
   "metadata": {
    "id": "008gyE7MD3es"
   },
   "outputs": [],
   "source": [
    "# Create a Neural Network that uses the Sigmoid activation function\n",
    "\n",
    "class SimpleNeuralNetworkWithSigmoid:\n",
    "    def __init__(self):\n",
    "        # Define layers\n",
    "        self.layer1 = Activation_Sigmoid(n_inputs=4, n_neurons=18)\n",
    "        self.layer2 = Activation_Sigmoid(n_inputs=18, n_neurons=18)\n",
    "        self.layer3 = Activation_Softmax(n_inputs=18, n_neurons=3)  # Output layer with 3 neurons for classification\n",
    "\n",
    "    def train(self, inputs):\n",
    "        # Forward pass through each layer with manual activation functions\n",
    "        out1 = self.layer1.forward(inputs)\n",
    "        out2 = self.layer2.forward(out1)\n",
    "        log_probabilities = self.layer3.forward(out2)  # Softmax for multiclass classification\n",
    "        return log_probabilities"
   ]
  },
  {
   "cell_type": "markdown",
   "metadata": {
    "id": "DHZBnGdWEeob"
   },
   "source": [
    "### Testing the model that uses the ReLU activation function for the first two layer of the neural network."
   ]
  },
  {
   "cell_type": "code",
   "execution_count": 7,
   "metadata": {
    "colab": {
     "base_uri": "https://localhost:8080/"
    },
    "id": "4UQv3eH3EnSX",
    "outputId": "cb928f37-0aa5-4073-b031-f3d7833cc91e"
   },
   "outputs": [
    {
     "name": "stdout",
     "output_type": "stream",
     "text": [
      "tensor([[0.3513, 0.4093, 0.4035, 0.6516],\n",
      "        [0.1223, 0.6920, 0.5893, 0.2681]])\n",
      "tensor([[0.0091, 0.0118, 0.0084, 0.0108, 0.0078, 0.0066, 0.0074, 0.0076, 0.0108,\n",
      "         0.0108, 0.0063, 0.0082, 0.0096, 0.0049, 0.0117, 0.0085, 0.0109, 0.0066],\n",
      "        [0.0066, 0.0105, 0.0098, 0.0072, 0.0065, 0.0089, 0.0050, 0.0075, 0.0098,\n",
      "         0.0095, 0.0067, 0.0090, 0.0099, 0.0026, 0.0110, 0.0093, 0.0130, 0.0072]])\n",
      "tensor([[0.0006, 0.0008, 0.0007, 0.0009, 0.0007, 0.0007, 0.0007, 0.0009, 0.0008,\n",
      "         0.0008, 0.0009, 0.0008, 0.0007, 0.0008, 0.0008, 0.0006, 0.0009, 0.0006],\n",
      "        [0.0006, 0.0007, 0.0007, 0.0009, 0.0007, 0.0007, 0.0006, 0.0009, 0.0008,\n",
      "         0.0007, 0.0009, 0.0008, 0.0007, 0.0008, 0.0007, 0.0006, 0.0009, 0.0006]])\n",
      "tensor([[0.3333, 0.3333, 0.3333],\n",
      "        [0.3333, 0.3333, 0.3333]])\n"
     ]
    }
   ],
   "source": [
    "model_relu = SimpleNeuralNetworkWithReLU()\n",
    "input = torch.rand(2, 4)\n",
    "print(input)\n",
    "output = model_relu.train(input)\n",
    "print(output)"
   ]
  },
  {
   "cell_type": "code",
   "execution_count": 8,
   "metadata": {
    "colab": {
     "base_uri": "https://localhost:8080/"
    },
    "id": "WxIzHlWAHIun",
    "outputId": "69b416c3-8af5-403d-fef3-05d45a86a754"
   },
   "outputs": [
    {
     "name": "stdout",
     "output_type": "stream",
     "text": [
      "tensor([[0.8722, 0.3106, 0.8654, 0.0191],\n",
      "        [0.4619, 0.1681, 0.1633, 0.7447]])\n",
      "tensor([[0.3306, 0.3336, 0.3358],\n",
      "        [0.3306, 0.3336, 0.3358]])\n"
     ]
    }
   ],
   "source": [
    "model_sigmoid = SimpleNeuralNetworkWithSigmoid()\n",
    "input2 = torch.rand(2, 4)\n",
    "print(input2)\n",
    "output2 = model_sigmoid.train(input2)\n",
    "print(output2)"
   ]
  },
  {
   "cell_type": "markdown",
   "metadata": {
    "id": "hdEwRDpcLp7c"
   },
   "source": [
    "### Finding Cross Entropy Loss\n"
   ]
  },
  {
   "cell_type": "code",
   "execution_count": 9,
   "metadata": {
    "id": "8cNfpQDDVG_Y"
   },
   "outputs": [],
   "source": [
    "def cross_entropy_loss(predictions, targets):\n",
    "  size = predictions.shape[0]\n",
    "  input_losses = -torch.log(predictions[range(size), targets])\n",
    "  loss = torch.sum(input_losses) / size\n",
    "  return loss\n",
    "\n",
    "def accuracy(predictions, targets):\n",
    "  pred_index = torch.argmax(predictions, axis=1)\n",
    "  correct_predictions = torch.sum(pred_index == targets).item()\n",
    "  accuracy = correct_predictions / len(targets)\n",
    "  print(pred_index == correct_predictions)\n",
    "  print(\"The number of correct predictions is: \", correct_predictions)\n",
    "  return accuracy"
   ]
  },
  {
   "cell_type": "code",
   "execution_count": 14,
   "metadata": {
    "id": "VtTS4sV8MLr_"
   },
   "outputs": [
    {
     "data": {
      "text/plain": [
       "(tensor([[0.7159, 0.7094, 0.0295, 0.2725],\n",
       "         [0.7091, 0.9959, 0.1048, 0.0425],\n",
       "         [0.4359, 0.0970, 0.9018, 0.2896],\n",
       "         [0.1877, 0.4093, 0.5613, 0.9101],\n",
       "         [0.2064, 0.3040, 0.9294, 0.6180]]),\n",
       " tensor([1, 0, 2, 0, 1]))"
      ]
     },
     "execution_count": 14,
     "metadata": {},
     "output_type": "execute_result"
    }
   ],
   "source": [
    "input = torch.rand(5, 4)\n",
    "targets = torch.tensor([1, 0, 2, 0, 1])\n",
    "input, targets"
   ]
  },
  {
   "cell_type": "markdown",
   "metadata": {
    "id": "kfrxK8FXNupP"
   },
   "source": [
    "#### Test ReLU activation function"
   ]
  },
  {
   "cell_type": "code",
   "execution_count": 23,
   "metadata": {
    "colab": {
     "base_uri": "https://localhost:8080/"
    },
    "id": "cYhC5mv4LtWs",
    "outputId": "02e81575-25c0-4ef6-d072-5340045ad16f"
   },
   "outputs": [
    {
     "name": "stdout",
     "output_type": "stream",
     "text": [
      "tensor([[0.0069, 0.0064, 0.0111, 0.0055, 0.0047, 0.0066, 0.0043, 0.0091, 0.0072,\n",
      "         0.0068, 0.0066, 0.0107, 0.0041, 0.0090, 0.0081, 0.0135, 0.0056, 0.0050],\n",
      "        [0.0071, 0.0083, 0.0115, 0.0048, 0.0062, 0.0054, 0.0054, 0.0097, 0.0067,\n",
      "         0.0069, 0.0055, 0.0103, 0.0053, 0.0093, 0.0079, 0.0166, 0.0063, 0.0059],\n",
      "        [0.0081, 0.0093, 0.0068, 0.0047, 0.0093, 0.0136, 0.0070, 0.0115, 0.0058,\n",
      "         0.0116, 0.0118, 0.0133, 0.0078, 0.0095, 0.0059, 0.0112, 0.0111, 0.0017],\n",
      "        [0.0122, 0.0094, 0.0114, 0.0057, 0.0077, 0.0144, 0.0054, 0.0121, 0.0099,\n",
      "         0.0119, 0.0147, 0.0165, 0.0062, 0.0120, 0.0092, 0.0094, 0.0126, 0.0049],\n",
      "        [0.0115, 0.0112, 0.0093, 0.0050, 0.0101, 0.0156, 0.0072, 0.0130, 0.0082,\n",
      "         0.0133, 0.0148, 0.0162, 0.0083, 0.0117, 0.0077, 0.0112, 0.0140, 0.0035]])\n",
      "tensor([[0.0006, 0.0006, 0.0006, 0.0005, 0.0006, 0.0008, 0.0007, 0.0007, 0.0006,\n",
      "         0.0007, 0.0007, 0.0007, 0.0007, 0.0006, 0.0006, 0.0006, 0.0007, 0.0007],\n",
      "        [0.0007, 0.0006, 0.0007, 0.0006, 0.0007, 0.0008, 0.0008, 0.0007, 0.0007,\n",
      "         0.0007, 0.0008, 0.0007, 0.0007, 0.0006, 0.0007, 0.0006, 0.0008, 0.0008],\n",
      "        [0.0008, 0.0008, 0.0007, 0.0006, 0.0008, 0.0009, 0.0009, 0.0009, 0.0007,\n",
      "         0.0009, 0.0009, 0.0008, 0.0009, 0.0007, 0.0008, 0.0008, 0.0009, 0.0009],\n",
      "        [0.0009, 0.0009, 0.0008, 0.0007, 0.0009, 0.0011, 0.0011, 0.0010, 0.0009,\n",
      "         0.0010, 0.0011, 0.0010, 0.0010, 0.0008, 0.0009, 0.0009, 0.0010, 0.0010],\n",
      "        [0.0009, 0.0010, 0.0009, 0.0007, 0.0009, 0.0011, 0.0011, 0.0011, 0.0009,\n",
      "         0.0011, 0.0011, 0.0010, 0.0011, 0.0008, 0.0010, 0.0009, 0.0011, 0.0011]])\n",
      "The Cross Entropy Loss is:  tensor(1.0986)\n",
      "tensor([False, False, False, False, False])\n",
      "The number of correct predictions is:  1\n",
      "the accuracy is:  0.2\n"
     ]
    }
   ],
   "source": [
    "model_relu = SimpleNeuralNetworkWithReLU()\n",
    "relu_predictions = model_relu.train(input)\n",
    "\n",
    "loss = cross_entropy_loss(relu_predictions, targets)\n",
    "print(\"The Cross Entropy Loss is: \", loss)\n",
    "\n",
    "acc = accuracy(relu_predictions, targets)\n",
    "print(\"the accuracy is: \", acc)\n",
    "\n"
   ]
  },
  {
   "cell_type": "markdown",
   "metadata": {
    "id": "ZT0ijyF5NyqZ"
   },
   "source": [
    "#### Test Sigmoid Activation Function"
   ]
  },
  {
   "cell_type": "code",
   "execution_count": 24,
   "metadata": {
    "colab": {
     "base_uri": "https://localhost:8080/"
    },
    "id": "JhNExD4PMNE1",
    "outputId": "5eb6405d-297b-45b4-823d-c2d82b3dce39",
    "scrolled": true
   },
   "outputs": [
    {
     "name": "stdout",
     "output_type": "stream",
     "text": [
      "tensor([[0.5011, 0.5008, 0.5018, 0.5016, 0.5032, 0.5018, 0.5013, 0.5016, 0.5029,\n",
      "         0.5012, 0.5004, 0.5037, 0.5027, 0.5021, 0.5020, 0.5016, 0.5009, 0.5022],\n",
      "        [0.5013, 0.5009, 0.5020, 0.5017, 0.5038, 0.5019, 0.5015, 0.5017, 0.5029,\n",
      "         0.5010, 0.5005, 0.5039, 0.5025, 0.5020, 0.5019, 0.5018, 0.5007, 0.5021],\n",
      "        [0.5023, 0.5022, 0.5023, 0.5010, 0.5028, 0.5015, 0.5016, 0.5029, 0.5018,\n",
      "         0.5019, 0.5009, 0.5019, 0.5033, 0.5035, 0.5016, 0.5028, 0.5029, 0.5014],\n",
      "        [0.5018, 0.5022, 0.5020, 0.5020, 0.5029, 0.5015, 0.5021, 0.5029, 0.5034,\n",
      "         0.5021, 0.5009, 0.5032, 0.5038, 0.5031, 0.5021, 0.5020, 0.5031, 0.5016],\n",
      "        [0.5025, 0.5026, 0.5023, 0.5016, 0.5032, 0.5015, 0.5022, 0.5033, 0.5027,\n",
      "         0.5022, 0.5011, 0.5025, 0.5038, 0.5036, 0.5018, 0.5027, 0.5035, 0.5013]])\n",
      "tensor([[0.5113, 0.5109, 0.5125, 0.5130, 0.5145, 0.5127, 0.5121, 0.5108, 0.5130,\n",
      "         0.5124, 0.5128, 0.5127, 0.5108, 0.5120, 0.5123, 0.5121, 0.5099, 0.5149],\n",
      "        [0.5113, 0.5109, 0.5125, 0.5130, 0.5145, 0.5127, 0.5121, 0.5108, 0.5130,\n",
      "         0.5124, 0.5128, 0.5127, 0.5108, 0.5120, 0.5123, 0.5121, 0.5099, 0.5149],\n",
      "        [0.5113, 0.5109, 0.5125, 0.5130, 0.5145, 0.5127, 0.5121, 0.5108, 0.5130,\n",
      "         0.5124, 0.5128, 0.5127, 0.5108, 0.5120, 0.5123, 0.5121, 0.5099, 0.5149],\n",
      "        [0.5113, 0.5109, 0.5125, 0.5130, 0.5145, 0.5127, 0.5121, 0.5108, 0.5131,\n",
      "         0.5124, 0.5128, 0.5127, 0.5108, 0.5121, 0.5123, 0.5121, 0.5099, 0.5149],\n",
      "        [0.5113, 0.5109, 0.5125, 0.5130, 0.5145, 0.5127, 0.5121, 0.5108, 0.5131,\n",
      "         0.5124, 0.5128, 0.5127, 0.5108, 0.5121, 0.5123, 0.5121, 0.5099, 0.5149]])\n",
      "tensor([[0.3338, 0.3341, 0.3321],\n",
      "        [0.3338, 0.3341, 0.3321],\n",
      "        [0.3338, 0.3341, 0.3321],\n",
      "        [0.3338, 0.3341, 0.3321],\n",
      "        [0.3338, 0.3341, 0.3321]])\n",
      "The Cross Entropy Loss is:  tensor(1.0986)\n",
      "tensor([False, False, False, False, False])\n",
      "The number of correct predictions is:  1\n",
      "the accuracy is:  0.2\n"
     ]
    }
   ],
   "source": [
    "model_sigmoid = SimpleNeuralNetworkWithSigmoid()\n",
    "sigmoid_predictions = model_sigmoid.train(input)\n",
    "print(sigmoid_predictions)\n",
    "loss = cross_entropy_loss(relu_predictions, targets)\n",
    "print(\"The Cross Entropy Loss is: \", loss)\n",
    "\n",
    "acc = accuracy(relu_predictions, targets)\n",
    "print(\"the accuracy is: \", acc)\n"
   ]
  },
  {
   "cell_type": "code",
   "execution_count": 13,
   "metadata": {
    "colab": {
     "base_uri": "https://localhost:8080/"
    },
    "id": "R5PGP09pN37S",
    "outputId": "89017f92-4dac-434e-cf77-b3bb84b2de45"
   },
   "outputs": [
    {
     "name": "stdout",
     "output_type": "stream",
     "text": [
      "tensor([[0.3402, 0.3294, 0.3304],\n",
      "        [0.3402, 0.3294, 0.3304],\n",
      "        [0.3402, 0.3294, 0.3304],\n",
      "        [0.3402, 0.3294, 0.3304],\n",
      "        [0.3402, 0.3294, 0.3304]])\n"
     ]
    },
    {
     "data": {
      "text/plain": [
       "tensor(1.0980)"
      ]
     },
     "execution_count": 13,
     "metadata": {},
     "output_type": "execute_result"
    }
   ],
   "source": [
    "import torch.nn as nn\n",
    "\n",
    "sigmoid_predictions = model_sigmoid.train(input)\n",
    "# Use CrossEntropyLoss\n",
    "criterion = nn.CrossEntropyLoss()\n",
    "print(sigmoid_predictions)\n",
    "# Calculate the loss\n",
    "loss = criterion(sigmoid_predictions, targets)\n",
    "loss\n"
   ]
  },
  {
   "cell_type": "code",
   "execution_count": null,
   "metadata": {
    "id": "uOt9s5-EOUPA"
   },
   "outputs": [],
   "source": []
  },
  {
   "cell_type": "markdown",
   "metadata": {
    "id": "mVpTCY8SSoDq"
   },
   "source": []
  }
 ],
 "metadata": {
  "colab": {
   "provenance": []
  },
  "kernelspec": {
   "display_name": "Python 3 (ipykernel)",
   "language": "python",
   "name": "python3"
  },
  "language_info": {
   "codemirror_mode": {
    "name": "ipython",
    "version": 3
   },
   "file_extension": ".py",
   "mimetype": "text/x-python",
   "name": "python",
   "nbconvert_exporter": "python",
   "pygments_lexer": "ipython3",
   "version": "3.11.2"
  }
 },
 "nbformat": 4,
 "nbformat_minor": 1
}
