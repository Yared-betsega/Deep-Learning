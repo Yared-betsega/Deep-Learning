{
 "cells": [
  {
   "cell_type": "markdown",
   "metadata": {},
   "source": [
    "#### Name:  Yared Tsegaye Gizaw\n",
    "\n",
    "#### ID:  UGR/8284/12"
   ]
  },
  {
   "cell_type": "code",
   "execution_count": 1,
   "metadata": {
    "id": "qDAEIoSGZGzU"
   },
   "outputs": [],
   "source": [
    "# Import packages\n",
    "import torch"
   ]
  },
  {
   "cell_type": "markdown",
   "metadata": {},
   "source": [
    "#### Activation Functions"
   ]
  },
  {
   "cell_type": "code",
   "execution_count": 30,
   "metadata": {},
   "outputs": [],
   "source": [
    "def relu(inputs):\n",
    "    return torch.maximum(torch.zeros_like(inputs), inputs)\n",
    "\n",
    "def softmax(inputs):\n",
    "    exp_values = torch.exp(inputs - torch.max(inputs, dim=1, keepdim=True).values)\n",
    "    return exp_values / torch.sum(exp_values, dim=1, keepdim=True)\n",
    "\n",
    "def sigmoid(inputs):\n",
    "    return 1 / (1 + torch.exp(-inputs))\n",
    "     "
   ]
  },
  {
   "cell_type": "code",
   "execution_count": 41,
   "metadata": {
    "id": "AqxDXNTWcvHG"
   },
   "outputs": [],
   "source": [
    "# Define a Layer class that contains ReLU activation function\n",
    "\n",
    "class Activation_ReLU:\n",
    "\n",
    "  # Layer initialization\n",
    "  def __init__(self, n_inputs, n_neurons):\n",
    "    # Initialize weights and biases\n",
    "    self.weights = 0.01 * torch.rand(n_inputs, n_neurons)\n",
    "    self.biases = torch.zeros((1, n_neurons))\n",
    "\n",
    "  # Forward pass\n",
    "  def forward(self, inputs):\n",
    "    # Calculate output values from inputs, weights and biases\n",
    "    self.output = torch.matmul(inputs, self.weights) + self.biases\n",
    "\n",
    "    # Apply activation functions\n",
    "    self.output = relu(self.output)\n",
    "#     print(self.output)\n",
    "    return self.output\n"
   ]
  },
  {
   "cell_type": "code",
   "execution_count": 34,
   "metadata": {
    "id": "3ZRaUE3SzTBt"
   },
   "outputs": [],
   "source": [
    "# Define a Layer class that contains Sigmoid activation function\n",
    "\n",
    "class Activation_Sigmoid:\n",
    "\n",
    "  # Layer initialization\n",
    "  def __init__(self, n_inputs, n_neurons):\n",
    "    # Initialize weights and biases\n",
    "    self.weights = 0.01 * torch.rand(n_inputs, n_neurons)\n",
    "    self.biases = torch.zeros((1, n_neurons))\n",
    "\n",
    "  # Forward pass\n",
    "  def forward(self, inputs):\n",
    "    # Calculate output values from inputs, weights and biases\n",
    "    self.output = torch.matmul(inputs, self.weights) + self.biases\n",
    "\n",
    "    # Apply activation functions\n",
    "    self.output = sigmoid(self.output)\n",
    "#     print(self.output)\n",
    "    return self.output\n",
    "\n"
   ]
  },
  {
   "cell_type": "code",
   "execution_count": 47,
   "metadata": {
    "id": "V0GPBFe01qWc"
   },
   "outputs": [],
   "source": [
    "# Define a Layer class that contains Softmax activation function\n",
    "\n",
    "class Activation_Softmax:\n",
    "\n",
    "  # Layer initialization\n",
    "  def __init__(self, n_inputs, n_neurons):\n",
    "    # Initialize weights and biases\n",
    "    self.weights = 0.01 * torch.rand(n_inputs, n_neurons)\n",
    "    self.biases = torch.zeros((1, n_neurons))\n",
    "\n",
    "  # Forward pass\n",
    "  def forward(self, inputs):\n",
    "    # Calculate output values from inputs, weights and biases\n",
    "    weighted_sum = torch.matmul(inputs, self.weights) + self.biases\n",
    "\n",
    "    # Apply activation functions\n",
    "    self.output = softmax(weighted_sum)\n",
    "#     print(self.output)\n",
    "    return self.output\n"
   ]
  },
  {
   "cell_type": "markdown",
   "metadata": {},
   "source": [
    "#### Neural Networks With Activation Functions"
   ]
  },
  {
   "cell_type": "code",
   "execution_count": 36,
   "metadata": {
    "id": "GPXRPKPxAKVx"
   },
   "outputs": [],
   "source": [
    "# Create a Neural Network that uses the ReLU activation function\n",
    "\n",
    "class SimpleNeuralNetworkWithReLU:\n",
    "    def __init__(self):\n",
    "        # Define layers\n",
    "        self.layer1 = Activation_ReLU(n_inputs=4, n_neurons=18)\n",
    "        self.layer2 = Activation_ReLU(n_inputs=18, n_neurons=18)\n",
    "        self.layer3 = Activation_Softmax(n_inputs=18, n_neurons=3)  # Output layer with 3 neurons for classification\n",
    "\n",
    "    def train(self, inputs):\n",
    "        # Forward pass through each layer with manual activation functions\n",
    "        out1 = self.layer1.forward(inputs)\n",
    "        out2 = self.layer2.forward(out1)\n",
    "        log_probabilities = self.layer3.forward(out2)  # Softmax for multiclass classification\n",
    "        return log_probabilities"
   ]
  },
  {
   "cell_type": "code",
   "execution_count": 37,
   "metadata": {
    "id": "008gyE7MD3es"
   },
   "outputs": [],
   "source": [
    "# Create a Neural Network that uses the Sigmoid activation function\n",
    "\n",
    "class SimpleNeuralNetworkWithSigmoid:\n",
    "    def __init__(self):\n",
    "        # Define layers\n",
    "        self.layer1 = Activation_Sigmoid(n_inputs=4, n_neurons=18)\n",
    "        self.layer2 = Activation_Sigmoid(n_inputs=18, n_neurons=18)\n",
    "        self.layer3 = Activation_Softmax(n_inputs=18, n_neurons=3)  # Output layer with 3 neurons for classification\n",
    "\n",
    "    def train(self, inputs):\n",
    "        # Forward pass through each layer with manual activation functions\n",
    "        out1 = self.layer1.forward(inputs)\n",
    "        out2 = self.layer2.forward(out1)\n",
    "        log_probabilities = self.layer3.forward(out2)  # Softmax for multiclass classification\n",
    "        return log_probabilities"
   ]
  },
  {
   "cell_type": "markdown",
   "metadata": {
    "id": "hdEwRDpcLp7c"
   },
   "source": [
    "#### Cross Entropy Loss & Accuracy\n"
   ]
  },
  {
   "cell_type": "code",
   "execution_count": 44,
   "metadata": {
    "id": "8cNfpQDDVG_Y"
   },
   "outputs": [],
   "source": [
    "def cross_entropy_loss(predictions, targets):\n",
    "  size = predictions.shape[0]\n",
    "  input_losses = -torch.log(predictions[range(size), targets])\n",
    "  loss = torch.sum(input_losses) / size\n",
    "  return loss\n",
    "\n",
    "def accuracy(predictions, targets):\n",
    "  pred_index = torch.argmax(predictions, axis=1)\n",
    "  correct_predictions = torch.sum(pred_index == targets).item()\n",
    "  accuracy = correct_predictions / len(targets)\n",
    "  print(pred_index == targets)\n",
    "  print(\"The number of correct predictions is: \", correct_predictions)\n",
    "  return accuracy"
   ]
  },
  {
   "cell_type": "markdown",
   "metadata": {},
   "source": [
    "#### Compare ReLU and Sigmoid Outcomes"
   ]
  },
  {
   "cell_type": "code",
   "execution_count": 39,
   "metadata": {
    "id": "VtTS4sV8MLr_"
   },
   "outputs": [
    {
     "data": {
      "text/plain": [
       "(tensor([[0.5615, 0.1774, 0.8147, 0.3295],\n",
       "         [0.2319, 0.7832, 0.8544, 0.1012],\n",
       "         [0.1877, 0.9310, 0.0899, 0.3156],\n",
       "         [0.9423, 0.2536, 0.7388, 0.5404],\n",
       "         [0.4356, 0.4430, 0.6257, 0.0379]]),\n",
       " tensor([1, 0, 2, 0, 1]))"
      ]
     },
     "execution_count": 39,
     "metadata": {},
     "output_type": "execute_result"
    }
   ],
   "source": [
    "torch.manual_seed(20)\n",
    "input = torch.rand(5, 4)\n",
    "targets = torch.tensor([1, 0, 2, 0, 1])\n",
    "input, targets"
   ]
  },
  {
   "cell_type": "markdown",
   "metadata": {
    "id": "kfrxK8FXNupP"
   },
   "source": [
    "#### Test ReLU activation function"
   ]
  },
  {
   "cell_type": "code",
   "execution_count": 48,
   "metadata": {
    "colab": {
     "base_uri": "https://localhost:8080/"
    },
    "id": "cYhC5mv4LtWs",
    "outputId": "02e81575-25c0-4ef6-d072-5340045ad16f"
   },
   "outputs": [],
   "source": [
    "def relu_test():\n",
    "    model_relu = SimpleNeuralNetworkWithReLU()\n",
    "    relu_predictions = model_relu.train(input)\n",
    "\n",
    "    loss = cross_entropy_loss(relu_predictions, targets)\n",
    "    print(\"The Cross Entropy Loss is: \", loss)\n",
    "\n",
    "    acc = accuracy(relu_predictions, targets)\n",
    "    print(\"the accuracy is: \", acc)\n",
    "\n",
    "def sigmoid_test():\n",
    "    model_sigmoid = SimpleNeuralNetworkWithSigmoid()\n",
    "    sigmoid_predictions = model_sigmoid.train(input)\n",
    "    print(sigmoid_predictions)\n",
    "    loss = cross_entropy_loss(relu_predictions, targets)\n",
    "    print(\"The Cross Entropy Loss is: \", loss)\n",
    "\n",
    "    acc = accuracy(relu_predictions, targets)\n",
    "    print(\"the accuracy is: \", acc)\n",
    "    "
   ]
  },
  {
   "cell_type": "markdown",
   "metadata": {
    "id": "ZT0ijyF5NyqZ"
   },
   "source": [
    "#### Run Tests"
   ]
  },
  {
   "cell_type": "code",
   "execution_count": 49,
   "metadata": {
    "colab": {
     "base_uri": "https://localhost:8080/"
    },
    "id": "JhNExD4PMNE1",
    "outputId": "5eb6405d-297b-45b4-823d-c2d82b3dce39",
    "scrolled": true
   },
   "outputs": [
    {
     "name": "stdout",
     "output_type": "stream",
     "text": [
      "tensor([[0.0048, 0.0080, 0.0077, 0.0148, 0.0048, 0.0098, 0.0074, 0.0088, 0.0109,\n",
      "         0.0068, 0.0142, 0.0097, 0.0091, 0.0088, 0.0062, 0.0163, 0.0068, 0.0101],\n",
      "        [0.0063, 0.0112, 0.0082, 0.0165, 0.0059, 0.0081, 0.0111, 0.0052, 0.0134,\n",
      "         0.0062, 0.0172, 0.0095, 0.0097, 0.0066, 0.0103, 0.0138, 0.0092, 0.0130],\n",
      "        [0.0077, 0.0122, 0.0099, 0.0117, 0.0053, 0.0047, 0.0102, 0.0067, 0.0119,\n",
      "         0.0068, 0.0108, 0.0047, 0.0092, 0.0067, 0.0107, 0.0093, 0.0093, 0.0129],\n",
      "        [0.0074, 0.0115, 0.0124, 0.0183, 0.0061, 0.0133, 0.0102, 0.0141, 0.0152,\n",
      "         0.0103, 0.0174, 0.0108, 0.0127, 0.0129, 0.0084, 0.0216, 0.0098, 0.0140],\n",
      "        [0.0045, 0.0076, 0.0070, 0.0120, 0.0039, 0.0079, 0.0084, 0.0054, 0.0107,\n",
      "         0.0051, 0.0137, 0.0066, 0.0075, 0.0057, 0.0067, 0.0119, 0.0070, 0.0092]])\n",
      "tensor([[0.0008, 0.0008, 0.0007, 0.0010, 0.0008, 0.0008, 0.0007, 0.0008, 0.0008,\n",
      "         0.0009, 0.0009, 0.0007, 0.0008, 0.0008, 0.0009, 0.0008, 0.0008, 0.0008],\n",
      "        [0.0009, 0.0009, 0.0008, 0.0011, 0.0009, 0.0009, 0.0008, 0.0009, 0.0010,\n",
      "         0.0010, 0.0010, 0.0008, 0.0010, 0.0009, 0.0010, 0.0008, 0.0009, 0.0008],\n",
      "        [0.0008, 0.0008, 0.0007, 0.0010, 0.0007, 0.0008, 0.0007, 0.0008, 0.0008,\n",
      "         0.0009, 0.0009, 0.0008, 0.0009, 0.0008, 0.0009, 0.0007, 0.0008, 0.0008],\n",
      "        [0.0011, 0.0011, 0.0010, 0.0014, 0.0010, 0.0011, 0.0009, 0.0011, 0.0011,\n",
      "         0.0012, 0.0012, 0.0010, 0.0011, 0.0011, 0.0012, 0.0011, 0.0011, 0.0010],\n",
      "        [0.0007, 0.0007, 0.0006, 0.0009, 0.0007, 0.0007, 0.0006, 0.0007, 0.0007,\n",
      "         0.0007, 0.0008, 0.0006, 0.0007, 0.0007, 0.0008, 0.0007, 0.0007, 0.0006]])\n",
      "tensor([[0.3333, 0.3333, 0.3333],\n",
      "        [0.3333, 0.3333, 0.3333],\n",
      "        [0.3333, 0.3333, 0.3333],\n",
      "        [0.3333, 0.3333, 0.3333],\n",
      "        [0.3333, 0.3333, 0.3333]])\n",
      "The Cross Entropy Loss is:  tensor(1.0986)\n",
      "tensor([False, False,  True, False, False])\n",
      "The number of correct predictions is:  1\n",
      "the accuracy is:  0.2\n",
      "tensor([[0.5019, 0.5027, 0.5018, 0.5021, 0.5014, 0.5015, 0.5033, 0.5029, 0.5014,\n",
      "         0.5031, 0.5015, 0.5020, 0.5027, 0.5032, 0.5018, 0.5031, 0.5029, 0.5028],\n",
      "        [0.5025, 0.5027, 0.5027, 0.5026, 0.5015, 0.5007, 0.5036, 0.5032, 0.5024,\n",
      "         0.5028, 0.5011, 0.5021, 0.5036, 0.5024, 0.5012, 0.5033, 0.5030, 0.5020],\n",
      "        [0.5022, 0.5018, 0.5029, 0.5024, 0.5017, 0.5005, 0.5028, 0.5026, 0.5027,\n",
      "         0.5017, 0.5013, 0.5021, 0.5030, 0.5013, 0.5013, 0.5031, 0.5018, 0.5012],\n",
      "        [0.5027, 0.5035, 0.5026, 0.5027, 0.5022, 0.5024, 0.5044, 0.5040, 0.5021,\n",
      "         0.5039, 0.5023, 0.5030, 0.5033, 0.5042, 0.5026, 0.5045, 0.5036, 0.5039],\n",
      "        [0.5020, 0.5023, 0.5019, 0.5016, 0.5013, 0.5012, 0.5030, 0.5026, 0.5015,\n",
      "         0.5022, 0.5009, 0.5018, 0.5024, 0.5023, 0.5010, 0.5027, 0.5024, 0.5020]])\n",
      "tensor([[0.5103, 0.5113, 0.5094, 0.5132, 0.5110, 0.5094, 0.5119, 0.5088, 0.5091,\n",
      "         0.5110, 0.5115, 0.5099, 0.5103, 0.5097, 0.5130, 0.5108, 0.5116, 0.5123],\n",
      "        [0.5102, 0.5113, 0.5094, 0.5132, 0.5110, 0.5094, 0.5119, 0.5088, 0.5091,\n",
      "         0.5110, 0.5115, 0.5099, 0.5103, 0.5097, 0.5130, 0.5108, 0.5116, 0.5123],\n",
      "        [0.5102, 0.5113, 0.5094, 0.5132, 0.5110, 0.5094, 0.5118, 0.5088, 0.5091,\n",
      "         0.5109, 0.5115, 0.5099, 0.5103, 0.5097, 0.5130, 0.5108, 0.5116, 0.5123],\n",
      "        [0.5103, 0.5114, 0.5094, 0.5132, 0.5110, 0.5094, 0.5119, 0.5088, 0.5091,\n",
      "         0.5110, 0.5115, 0.5099, 0.5103, 0.5097, 0.5130, 0.5108, 0.5116, 0.5123],\n",
      "        [0.5102, 0.5113, 0.5094, 0.5132, 0.5110, 0.5094, 0.5118, 0.5088, 0.5091,\n",
      "         0.5109, 0.5115, 0.5099, 0.5103, 0.5097, 0.5130, 0.5108, 0.5116, 0.5123]])\n",
      "tensor([[0.3317, 0.3320, 0.3363],\n",
      "        [0.3317, 0.3320, 0.3363],\n",
      "        [0.3317, 0.3320, 0.3363],\n",
      "        [0.3317, 0.3320, 0.3363],\n",
      "        [0.3317, 0.3320, 0.3363]])\n",
      "tensor([[0.3317, 0.3320, 0.3363],\n",
      "        [0.3317, 0.3320, 0.3363],\n",
      "        [0.3317, 0.3320, 0.3363],\n",
      "        [0.3317, 0.3320, 0.3363],\n",
      "        [0.3317, 0.3320, 0.3363]])\n",
      "The Cross Entropy Loss is:  tensor(1.0986)\n",
      "tensor([ True, False, False, False,  True])\n",
      "The number of correct predictions is:  2\n",
      "the accuracy is:  0.4\n"
     ]
    }
   ],
   "source": [
    "relu_test()\n",
    "sigmoid_test()"
   ]
  },
  {
   "cell_type": "code",
   "execution_count": null,
   "metadata": {
    "id": "uOt9s5-EOUPA"
   },
   "outputs": [],
   "source": []
  },
  {
   "cell_type": "markdown",
   "metadata": {
    "id": "mVpTCY8SSoDq"
   },
   "source": []
  }
 ],
 "metadata": {
  "colab": {
   "provenance": []
  },
  "kernelspec": {
   "display_name": "Python 3 (ipykernel)",
   "language": "python",
   "name": "python3"
  },
  "language_info": {
   "codemirror_mode": {
    "name": "ipython",
    "version": 3
   },
   "file_extension": ".py",
   "mimetype": "text/x-python",
   "name": "python",
   "nbconvert_exporter": "python",
   "pygments_lexer": "ipython3",
   "version": "3.11.2"
  }
 },
 "nbformat": 4,
 "nbformat_minor": 1
}
