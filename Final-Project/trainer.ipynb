{
 "cells": [
  {
   "cell_type": "markdown",
   "id": "25e4e31f",
   "metadata": {},
   "source": [
    "### Import necessary dependencies"
   ]
  },
  {
   "cell_type": "code",
   "execution_count": 1,
   "id": "f7314077",
   "metadata": {},
   "outputs": [
    {
     "name": "stderr",
     "output_type": "stream",
     "text": [
      "c:\\Users\\envy 12th\\AppData\\Local\\Programs\\Python\\Python311\\Lib\\site-packages\\tqdm\\auto.py:21: TqdmWarning: IProgress not found. Please update jupyter and ipywidgets. See https://ipywidgets.readthedocs.io/en/stable/user_install.html\n",
      "  from .autonotebook import tqdm as notebook_tqdm\n"
     ]
    }
   ],
   "source": [
    "import torch \n",
    "import matplotlib.pyplot as plt\n",
    "from PIL import Image\n",
    "from torch import nn, save, load\n",
    "from torch.optim import Adam\n",
    "from torch.utils.data import DataLoader\n",
    "from torchvision import datasets\n",
    "from torchvision.transforms import ToTensor\n",
    "from torchvision.transforms import functional as F\n",
    "from torchsummary import summary\n"
   ]
  },
  {
   "cell_type": "markdown",
   "id": "20ee06d8",
   "metadata": {},
   "source": [
    "### Define Hyperparameters"
   ]
  },
  {
   "cell_type": "code",
   "execution_count": 2,
   "id": "184576b8",
   "metadata": {},
   "outputs": [],
   "source": [
    "EPOCHS = 15\n",
    "BATHC_SIZE = 32"
   ]
  },
  {
   "cell_type": "markdown",
   "id": "b6ecf2b5",
   "metadata": {},
   "source": [
    "### Load the dataset"
   ]
  },
  {
   "cell_type": "code",
   "execution_count": 4,
   "id": "0aa4f969",
   "metadata": {},
   "outputs": [
    {
     "name": "stdout",
     "output_type": "stream",
     "text": [
      "Data loaded: Dataset ImageFolder\n",
      "    Number of datapoints: 30106\n",
      "    Root location: dataset/training_data\n",
      "    StandardTransform\n",
      "Transform: ToTensor() \n"
     ]
    }
   ],
   "source": [
    "train = datasets.ImageFolder(root=\"dataset/training_data\", transform=ToTensor())\n",
    "dataset = DataLoader(train, batch_size=32, shuffle=True)\n",
    "print(f\"Data loaded: {dataset.dataset} \")"
   ]
  },
  {
   "cell_type": "markdown",
   "id": "c46ba6cb",
   "metadata": {},
   "source": [
    "### Split the data into training and test data\n",
    "\n",
    "The data contains images for the majer 34 amharic characters ranging from ሀ to ፐ. The folder structure is as follows:\n",
    "\n",
    "- dataset\n",
    "    - ሀ\n",
    "        - img1.jpg\n",
    "        - img2.jpg\n",
    "        .\n",
    "        .\n",
    "        .\n",
    "    - ለ\n",
    "        - img1.jpg\n",
    "        - img2.jpg\n",
    "        .\n",
    "        .\n",
    "        .\n",
    "    .\n",
    "    .\n",
    "    .\n",
    "    .\n",
    "\n",
    "We need to divide this data into training and testing set with a ration of 80:20. This allows us to train the model on the 80% of the data and test it on the remaining unseen 20% of the data.\n",
    "\n"
   ]
  },
  {
   "cell_type": "markdown",
   "id": "55154def",
   "metadata": {},
   "source": [
    "I used this code to split my dataset into training and test data. NO NEED TO RUN THIS BLOCK OF CODE SINCE THE DATA IS ALREADY BEEN RAN ONCE AND IT'S SPLITTED INTO THE DESIRED TRAINING AND TEST DATA."
   ]
  },
  {
   "cell_type": "code",
   "execution_count": 4,
   "id": "6c3a4e0a",
   "metadata": {},
   "outputs": [],
   "source": [
    "# # DO NOT RUN THE CODE BELOW.\n",
    "# import os\n",
    "# import random\n",
    "# import shutil\n",
    "\n",
    "# # Set the path to your dataset\n",
    "# dataset_path = \"data_copy\"\n",
    "\n",
    "# # Set the path to the training and test data folders\n",
    "# training_data_path = \"training_data\"\n",
    "# test_data_path = \"test_data\"\n",
    "\n",
    "# # Set the ratio for splitting the data (80% for training, 20% for testing)\n",
    "# split_ratio = 0.8\n",
    "\n",
    "# # Create the training and test data folders if they don't exist\n",
    "# os.makedirs(training_data_path, exist_ok=True)\n",
    "# os.makedirs(test_data_path, exist_ok=True)\n",
    "\n",
    "# # Iterate through the characters in the dataset\n",
    "# for char_folder in os.listdir(dataset_path):\n",
    "#     char_folder_path = os.path.join(dataset_path, char_folder)\n",
    "#     if os.path.isdir(char_folder_path):\n",
    "#         # Get the list of image files in the character folder\n",
    "#         image_files = os.listdir(char_folder_path)\n",
    "\n",
    "#         # Shuffle the image files randomly\n",
    "#         random.shuffle(image_files)\n",
    "\n",
    "#         # Calculate the split index based on the split ratio\n",
    "#         split_index = int(len(image_files) * split_ratio)\n",
    "\n",
    "#         # Split the image files into training and test data\n",
    "#         training_files = image_files[:split_index]\n",
    "#         test_files = image_files[split_index:]\n",
    "\n",
    "#         # Move the training files to the training data folder\n",
    "#         for file in training_files:\n",
    "#             src = os.path.join(char_folder_path, file)\n",
    "#             dst = os.path.join(training_data_path, char_folder, file)\n",
    "#             os.makedirs(os.path.dirname(dst), exist_ok=True)\n",
    "#             shutil.move(src, dst)\n",
    "\n",
    "#         # Move the test files to the test data folder\n",
    "#         for file in test_files:\n",
    "#             src = os.path.join(char_folder_path, file)\n",
    "#             dst = os.path.join(test_data_path, char_folder, file)\n",
    "#             os.makedirs(os.path.dirname(dst), exist_ok=True)\n",
    "#             shutil.move(src, dst)"
   ]
  },
  {
   "cell_type": "markdown",
   "id": "ded23d82",
   "metadata": {},
   "source": [
    "### Define the image classifier Neural Network"
   ]
  },
  {
   "cell_type": "markdown",
   "id": "fbe248d4",
   "metadata": {},
   "source": [
    "#### Here is the structure of the neural network.\n",
    "\n",
    "1. Input Layer:\n",
    "\n",
    "    - The input to the network is expected to have 3 channels (e.g., for RGB images).\n",
    "\n",
    "2. Convolutional Layers:\n",
    "\n",
    "    - nn.Conv2d(3, 32, (3,3)) defines the first convolutional layer with 3 input channels, 32 output channels, and a 3x3 kernel size.\n",
    "    - nn.ReLU() applies the Rectified Linear Unit activation function to introduce non-linearity after the first convolutional layer.\n",
    "    - nn.Conv2d(32, 64, (3,3)) defines the second convolutional layer with 32 input channels (from the previous layer), 64 output channels, and a 3x3 kernel size.\n",
    "    - nn.ReLU() applies the ReLU activation function after the second convolutional layer.\n",
    "    - nn.Conv2d(64, 64, (3,3)) defines the third convolutional layer with 64 input channels, 64 output channels, and a 3x3 kernel size.\n",
    "    - nn.ReLU() applies the ReLU activation function after the third convolutional layer.\n",
    "\n",
    "3. Flatten Layer:\n",
    "\n",
    "    - nn.Flatten() flattens the output of the previous layer into a 1D tensor. This is done to transform the 2D feature maps into a 1D vector for the subsequent fully connected layers.\n",
    "\n",
    "4. Fully Connected Layer:\n",
    "\n",
    "    - nn.Linear(64*(28-6)*(28-6), 34) defines a fully connected layer with input size determined by the number of channels from the previous layer (64) and the spatial dimensions of the feature maps (28-6)*(28-6).\n",
    "    - The output size of this layer is set to 34, which suggests that the network is designed to classify inputs into 34 different classes which are the 34 Amharic based characters."
   ]
  },
  {
   "cell_type": "code",
   "execution_count": 5,
   "id": "188e9c16",
   "metadata": {},
   "outputs": [],
   "source": [
    "class ImageClassifier(nn.Module): \n",
    "    def __init__(self):\n",
    "        super().__init__()\n",
    "        self.model = nn.Sequential(\n",
    "            nn.Conv2d(3, 32, (3,3)), \n",
    "            nn.ReLU(),\n",
    "            nn.Conv2d(32, 64, (3,3)), \n",
    "            nn.ReLU(),\n",
    "            nn.Conv2d(64, 64, (3,3)), \n",
    "            nn.ReLU(),\n",
    "            nn.Flatten(), \n",
    "            nn.Linear(64*(28-6)*(28-6), 34)  \n",
    "        )\n",
    "\n",
    "    def forward(self, x): \n",
    "        return self.model(x)"
   ]
  },
  {
   "cell_type": "markdown",
   "id": "ddcff081",
   "metadata": {},
   "source": [
    "### Instance of the neural network, loss, optimizer \n"
   ]
  },
  {
   "cell_type": "code",
   "execution_count": 6,
   "id": "63ae842c",
   "metadata": {},
   "outputs": [
    {
     "name": "stdout",
     "output_type": "stream",
     "text": [
      "----------------------------------------------------------------\n",
      "        Layer (type)               Output Shape         Param #\n",
      "================================================================\n",
      "            Conv2d-1           [-1, 32, 26, 26]             896\n",
      "              ReLU-2           [-1, 32, 26, 26]               0\n",
      "            Conv2d-3           [-1, 64, 24, 24]          18,496\n",
      "              ReLU-4           [-1, 64, 24, 24]               0\n",
      "            Conv2d-5           [-1, 64, 22, 22]          36,928\n",
      "              ReLU-6           [-1, 64, 22, 22]               0\n",
      "           Flatten-7                [-1, 30976]               0\n",
      "            Linear-8                   [-1, 34]       1,053,218\n",
      "================================================================\n",
      "Total params: 1,109,538\n",
      "Trainable params: 1,109,538\n",
      "Non-trainable params: 0\n",
      "----------------------------------------------------------------\n",
      "Input size (MB): 0.01\n",
      "Forward/backward pass size (MB): 1.60\n",
      "Params size (MB): 4.23\n",
      "Estimated Total Size (MB): 5.84\n",
      "----------------------------------------------------------------\n"
     ]
    }
   ],
   "source": [
    "clf = ImageClassifier().to('cpu')\n",
    "opt = Adam(clf.parameters(), lr=1e-3)\n",
    "loss_fn = nn.CrossEntropyLoss() \n",
    "\n",
    "summary(clf, input_size=(3, 28, 28)) # Show the summary of the model layers"
   ]
  },
  {
   "cell_type": "markdown",
   "id": "d34fd078",
   "metadata": {},
   "source": [
    "### Training flow \n",
    "\n",
    "- I trained the model for 15 epochs and printed the loss at each stage."
   ]
  },
  {
   "cell_type": "code",
   "execution_count": 7,
   "id": "cda0bd46",
   "metadata": {},
   "outputs": [
    {
     "name": "stdout",
     "output_type": "stream",
     "text": [
      "Epoch:0 loss is 0.7817431092262268\n",
      "Epoch:1 loss is 0.2882244884967804\n",
      "Epoch:2 loss is 0.37115147709846497\n",
      "Epoch:3 loss is 0.37258073687553406\n",
      "Epoch:4 loss is 0.04359891638159752\n",
      "Epoch:5 loss is 0.14385566115379333\n",
      "Epoch:6 loss is 0.16663500666618347\n",
      "Epoch:7 loss is 0.054139312356710434\n",
      "Epoch:8 loss is 0.040572211146354675\n",
      "Epoch:9 loss is 0.013952912762761116\n",
      "Epoch:10 loss is 0.009447433985769749\n",
      "Epoch:11 loss is 0.0557887926697731\n",
      "Epoch:12 loss is 0.006024363450706005\n",
      "Epoch:13 loss is 0.03646283596754074\n",
      "Epoch:14 loss is 0.0011436213972046971\n"
     ]
    }
   ],
   "source": [
    "loss_at_each_epoch = []\n",
    "\n",
    "for epoch in range(EPOCHS): # train for 15 epochs\n",
    "    for batch in dataset: \n",
    "        X,y = batch \n",
    "        X, y = X.to('cpu'), y.to('cpu') \n",
    "        yhat = clf(X) \n",
    "        loss = loss_fn(yhat, y) \n",
    "\n",
    "        # Apply backprop \n",
    "        opt.zero_grad()\n",
    "        loss.backward() \n",
    "        opt.step() \n",
    "\n",
    "    loss_at_each_epoch.append(loss.item())\n",
    "    print(f\"Epoch:{epoch} loss is {loss.item()}\")\n",
    "\n",
    "with open('trained_model.pt', 'wb') as f: \n",
    "    save(clf.state_dict(), f) "
   ]
  },
  {
   "cell_type": "code",
   "execution_count": 10,
   "id": "95dad335",
   "metadata": {},
   "outputs": [
    {
     "data": {
      "image/png": "[encoded data removed]",
      "text/plain": [
       "<Figure size 640x480 with 1 Axes>"
      ]
     },
     "metadata": {},
     "output_type": "display_data"
    }
   ],
   "source": [
    "# Plot loss vs epoch graph.\n",
    "epochs = list(range(EPOCHS))\n",
    "plt.plot(epochs, loss_at_each_epoch)\n",
    "plt.xlabel('Epochs')\n",
    "plt.ylabel('Loss')\n",
    "plt.title('Loss vs Epochs')\n",
    "plt.show()"
   ]
  },
  {
   "cell_type": "markdown",
   "id": "f1bfd040",
   "metadata": {},
   "source": [
    "## Testing the trained model"
   ]
  },
  {
   "cell_type": "markdown",
   "id": "a1474a4e",
   "metadata": {},
   "source": [
    "### Load the model"
   ]
  },
  {
   "cell_type": "code",
   "execution_count": 11,
   "id": "77187304",
   "metadata": {},
   "outputs": [],
   "source": [
    "with open('trained_model.pt', 'rb') as f: \n",
    "    clf.load_state_dict(load(f)) "
   ]
  },
  {
   "cell_type": "code",
   "execution_count": 12,
   "id": "be02c9a1",
   "metadata": {},
   "outputs": [
    {
     "name": "stdout",
     "output_type": "stream",
     "text": [
      "Test Loss: 0.0362\n",
      "Accuracy: 83.85%\n"
     ]
    }
   ],
   "source": [
    "# Get test data\n",
    "test = datasets.ImageFolder(root=\"dataset/test_data\", transform=ToTensor())\n",
    "test_dataset = DataLoader(test, batch_size=32, shuffle=False)\n",
    "\n",
    "# Evaluation loop\n",
    "clf.eval()  # Set model to evaluation mode\n",
    "test_loss = 0\n",
    "correct = 0\n",
    "total = 0\n",
    "\n",
    "with torch.no_grad():  # Disable gradient calculation\n",
    "    for batch in test_dataset:\n",
    "        X, y = batch\n",
    "        X, y = X.to('cpu'), y.to('cpu')\n",
    "        yhat = clf(X)\n",
    "        test_loss += loss_fn(yhat, y).item()\n",
    "        predicted = yhat.argmax(dim=1, keepdim=True)\n",
    "        total += y.size(0)\n",
    "        correct += predicted.eq(y.view_as(predicted)).sum().item()\n",
    "    \n",
    "\n",
    "# Calculate Loss and Accuracy\n",
    "total_dataset = len(test_dataset.dataset)\n",
    "test_loss /= total_dataset\n",
    "\n",
    "accuracy = (correct / total) * 100\n",
    "\n",
    "print(f\"Test Loss: {test_loss:.4f}\")\n",
    "print(f\"Accuracy: {accuracy:.2f}%\")"
   ]
  },
  {
   "cell_type": "markdown",
   "id": "e921284f",
   "metadata": {},
   "source": [
    "### Load a sample image"
   ]
  },
  {
   "cell_type": "code",
   "execution_count": 13,
   "id": "2fe0ee8b",
   "metadata": {},
   "outputs": [
    {
     "name": "stdout",
     "output_type": "stream",
     "text": [
      "The predicted character is ቀ\n"
     ]
    }
   ],
   "source": [
    "img = Image.open('ቀ.jpg')\n",
    "img.convert('RGB')\n",
    "img_tensor = F.to_tensor(img)\n",
    "img_tensor = img_tensor.unsqueeze(0)\n",
    "img_tensor = img_tensor.expand(3, 3, img_tensor.shape[2], img_tensor.shape[3])\n",
    "\n",
    "amharic_chars = ['ሀ', 'ለ', 'ሐ', 'መ', 'ሠ', 'ረ', 'ሰ', 'ሸ', 'ቀ', 'በ', 'ቨ', 'ተ', 'ቸ', 'ኀ', 'ነ', 'ኘ', 'አ', 'ከ', 'ኸ', 'ወ', 'ዐ', 'ዘ', 'ዠ', 'የ', 'ደ', 'ጀ', 'ገ', 'ጠ', 'ጨ', 'ጰ', 'ጸ', 'ፀ', 'ፈ', 'ፐ']\n",
    "\n",
    "predicted_character_index = torch.argmax(clf(img_tensor))\n",
    "predicted_character = amharic_chars[predicted_character_index]\n",
    "print(f\"The predicted character is {predicted_character}\")"
   ]
  },
  {
   "cell_type": "code",
   "execution_count": null,
   "id": "d0330a64",
   "metadata": {},
   "outputs": [],
   "source": []
  }
 ],
 "metadata": {
  "kernelspec": {
   "display_name": "Python 3 (ipykernel)",
   "language": "python",
   "name": "python3"
  },
  "language_info": {
   "codemirror_mode": {
    "name": "ipython",
    "version": 3
   },
   "file_extension": ".py",
   "mimetype": "text/x-python",
   "name": "python",
   "nbconvert_exporter": "python",
   "pygments_lexer": "ipython3",
   "version": "3.11.2"
  }
 },
 "nbformat": 4,
 "nbformat_minor": 5
}
